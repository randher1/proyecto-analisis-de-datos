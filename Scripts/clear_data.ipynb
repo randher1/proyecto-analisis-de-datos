{
 "cells": [
  {
   "cell_type": "markdown",
   "metadata": {},
   "source": [
    "# Cargar librerias"
   ]
  },
  {
   "cell_type": "code",
   "execution_count": 33,
   "metadata": {},
   "outputs": [],
   "source": [
    "import pandas as pd\n",
    "import matplotlib.pyplot as plt\n"
   ]
  },
  {
   "cell_type": "markdown",
   "metadata": {},
   "source": [
    "## Cargar Archivo .csv"
   ]
  },
  {
   "cell_type": "code",
   "execution_count": 34,
   "metadata": {},
   "outputs": [
    {
     "data": {
      "text/plain": [
       "(1166, 39)"
      ]
     },
     "execution_count": 34,
     "metadata": {},
     "output_type": "execute_result"
    }
   ],
   "source": [
    "# Configura pandas para no usar notación científica\n",
    "pd.set_option('display.float_format', '{:.2f}'.format)\n",
    "# Lee el archivo CSV\n",
    "df = pd.read_csv('../Data/db/Originales/inmuebles_dommies.csv')\n",
    "df.dropna(inplace=True)\n",
    "# Muestra las primeras filas del archivo\n",
    "df.shape"
   ]
  },
  {
   "cell_type": "markdown",
   "metadata": {},
   "source": [
    "## Filtrado sobre precio."
   ]
  },
  {
   "cell_type": "code",
   "execution_count": 35,
   "metadata": {},
   "outputs": [
    {
     "name": "stderr",
     "output_type": "stream",
     "text": [
      "/tmp/ipykernel_878780/301453713.py:4: MatplotlibDeprecationWarning: The 'labels' parameter of boxplot() has been renamed 'tick_labels' since Matplotlib 3.9; support for the old name will be dropped in 3.11.\n",
      "  plt.boxplot(data, labels=['Precio', 'Metros Construidos'])\n"
     ]
    },
    {
     "data": {
      "image/png": "[encoded data removed]",
      "text/plain": [
       "<Figure size 640x480 with 1 Axes>"
      ]
     },
     "metadata": {},
     "output_type": "display_data"
    }
   ],
   "source": [
    "data = [df['precio'], df['metros_construidos']]\n",
    "\n",
    "# Crear el gráfico de boxplot\n",
    "plt.boxplot(data, labels=['Precio', 'Metros Construidos'])\n",
    "\n",
    "# Título y etiquetas\n",
    "plt.title(\"Box Plot Carnes\")\n",
    "plt.ylabel(\"Valores\")\n",
    "\n",
    "# Mostrar el gráfico\n",
    "plt.show()"
   ]
  },
  {
   "cell_type": "code",
   "execution_count": 36,
   "metadata": {},
   "outputs": [
    {
     "data": {
      "text/plain": [
       "(1118, 39)"
      ]
     },
     "execution_count": 36,
     "metadata": {},
     "output_type": "execute_result"
    }
   ],
   "source": [
    "filtro=(df['precio'] > 60000000) & (df['precio']<10000000000)\n",
    "df=df[filtro].copy()\n",
    "df.shape"
   ]
  },
  {
   "cell_type": "markdown",
   "metadata": {},
   "source": [
    "## Minimo y maximos de Metros Cuadrados."
   ]
  },
  {
   "cell_type": "code",
   "execution_count": 37,
   "metadata": {},
   "outputs": [
    {
     "name": "stdout",
     "output_type": "stream",
     "text": [
      "Minimo de Mtr²: 2.0, y maximo de Mtr²: 47679.0\n"
     ]
    }
   ],
   "source": [
    "minimo = min(df['metros_construidos'])\n",
    "maximo = max(df['metros_construidos'])\n",
    "print(f\"Minimo de Mtr²: {minimo}, y maximo de Mtr²: {maximo}\")\n"
   ]
  },
  {
   "cell_type": "markdown",
   "metadata": {},
   "source": [
    "## Filtrado de Metros cuadrados"
   ]
  },
  {
   "cell_type": "code",
   "execution_count": 38,
   "metadata": {},
   "outputs": [
    {
     "data": {
      "text/plain": [
       "(1116, 39)"
      ]
     },
     "execution_count": 38,
     "metadata": {},
     "output_type": "execute_result"
    }
   ],
   "source": [
    "filtro = (df['metros_construidos'] >= 40) & (df['metros_construidos'] <= maximo) & df['metros_construidos'].notnull()\n",
    "df=df[filtro].copy()\n",
    "df.reset_index(drop=True, inplace=True)\n",
    "df.shape"
   ]
  },
  {
   "cell_type": "markdown",
   "metadata": {},
   "source": [
    "## Resumen"
   ]
  },
  {
   "cell_type": "code",
   "execution_count": 39,
   "metadata": {},
   "outputs": [
    {
     "name": "stdout",
     "output_type": "stream",
     "text": [
      "                            titulo localizacion        precio   baños  \\\n",
      "count                         1116         1116       1116.00 1116.00   \n",
      "unique                         132          132           NaN     NaN   \n",
      "top     Casa en venta en Cartagena    Cartagena           NaN     NaN   \n",
      "freq                           218          218           NaN     NaN   \n",
      "mean                           NaN          NaN 1644086011.13    3.73   \n",
      "std                            NaN          NaN 1836692474.05    2.14   \n",
      "min                            NaN          NaN  165000000.00    2.00   \n",
      "25%                            NaN          NaN  436500000.00    3.00   \n",
      "50%                            NaN          NaN  880000000.00    3.00   \n",
      "75%                            NaN          NaN 2112500000.00    4.00   \n",
      "max                            NaN          NaN 9500000000.00   53.00   \n",
      "\n",
      "        habitabiones  metros_construidos  estrato  parqueadero  gas_natural  \\\n",
      "count        1116.00             1116.00  1116.00      1116.00      1116.00   \n",
      "unique           NaN                 NaN      NaN          NaN          NaN   \n",
      "top              NaN                 NaN      NaN          NaN          NaN   \n",
      "freq             NaN                 NaN      NaN          NaN          NaN   \n",
      "mean            4.37              348.70     4.44         0.51         0.37   \n",
      "std             2.33             1449.70     1.17         0.50         0.48   \n",
      "min             2.00               40.00     1.00         0.00         0.00   \n",
      "25%             3.00              150.00     3.00         0.00         0.00   \n",
      "50%             4.00              240.00     5.00         1.00         0.00   \n",
      "75%             5.00              378.00     5.00         1.00         1.00   \n",
      "max            50.00            47679.00     6.00         1.00         1.00   \n",
      "\n",
      "        conina_integral  ...  cancha_tenis  terraza  internet  \\\n",
      "count           1116.00  ...       1116.00  1116.00   1116.00   \n",
      "unique              NaN  ...           NaN      NaN       NaN   \n",
      "top                 NaN  ...           NaN      NaN       NaN   \n",
      "freq                NaN  ...           NaN      NaN       NaN   \n",
      "mean               0.42  ...          0.08     0.04      0.03   \n",
      "std                0.49  ...          0.28     0.19      0.18   \n",
      "min                0.00  ...          0.00     0.00      0.00   \n",
      "25%                0.00  ...          0.00     0.00      0.00   \n",
      "50%                0.00  ...          0.00     0.00      0.00   \n",
      "75%                1.00  ...          0.00     0.00      0.00   \n",
      "max                1.00  ...          1.00     1.00      1.00   \n",
      "\n",
      "        tanque_de_de_agua  permite_ninos  solo_familias   sauna  estudio  \\\n",
      "count             1116.00        1116.00        1116.00 1116.00  1116.00   \n",
      "unique                NaN            NaN            NaN     NaN      NaN   \n",
      "top                   NaN            NaN            NaN     NaN      NaN   \n",
      "freq                  NaN            NaN            NaN     NaN      NaN   \n",
      "mean                 0.02           0.02           0.02    0.02     0.02   \n",
      "std                  0.15           0.13           0.13    0.12     0.13   \n",
      "min                  0.00           0.00           0.00    0.00     0.00   \n",
      "25%                  0.00           0.00           0.00    0.00     0.00   \n",
      "50%                  0.00           0.00           0.00    0.00     0.00   \n",
      "75%                  0.00           0.00           0.00    0.00     0.00   \n",
      "max                  1.00           1.00           1.00    1.00     1.00   \n",
      "\n",
      "        conserje  caseta_vigilancia  \n",
      "count    1116.00            1116.00  \n",
      "unique       NaN                NaN  \n",
      "top          NaN                NaN  \n",
      "freq         NaN                NaN  \n",
      "mean        0.02               0.01  \n",
      "std         0.13               0.12  \n",
      "min         0.00               0.00  \n",
      "25%         0.00               0.00  \n",
      "50%         0.00               0.00  \n",
      "75%         0.00               0.00  \n",
      "max         1.00               1.00  \n",
      "\n",
      "[11 rows x 39 columns]\n"
     ]
    }
   ],
   "source": [
    "# Resumen completo\n",
    "resumen_completo = df.describe(include='all')\n",
    "print(resumen_completo)"
   ]
  },
  {
   "cell_type": "markdown",
   "metadata": {},
   "source": [
    "## Limpiar datos de localización donde tenga conincidencia que no sean barrios"
   ]
  },
  {
   "cell_type": "code",
   "execution_count": 40,
   "metadata": {},
   "outputs": [
    {
     "data": {
      "text/plain": [
       "(840, 39)"
      ]
     },
     "execution_count": 40,
     "metadata": {},
     "output_type": "execute_result"
    }
   ],
   "source": [
    "# Eliminar filas donde 'localizacion' contiene los valores específicos\n",
    "df = df[~df['localizacion'].str.contains('Provincia de Cartagena|Cartagena', na=False)]\n",
    "df.shape"
   ]
  },
  {
   "cell_type": "markdown",
   "metadata": {},
   "source": [
    "# Eliminación de outlier"
   ]
  },
  {
   "cell_type": "code",
   "execution_count": 41,
   "metadata": {},
   "outputs": [
    {
     "data": {
      "text/plain": [
       "\"\\nq1 = df['precio'].quantile(0.25)\\nq3 = df['precio'].quantile(0.75)\\n\\niqr = q3 - q1\\n\\n#Definicion de limites\\n\\nlimite_inf = q1 -1.5*iqr\\nlimite_sup = q3+1.5*iqr\\n\\n#identificar outlayer\\noutlier = df[(df['precio']<limite_inf) | (df['precio']>limite_sup)]\\n\\n#df=df.drop(outlier.index)\\noutlier.shape\\n\""
      ]
     },
     "execution_count": 41,
     "metadata": {},
     "output_type": "execute_result"
    }
   ],
   "source": [
    "#Calcular IQR\n",
    "\"\"\"\n",
    "q1 = df['precio'].quantile(0.25)\n",
    "q3 = df['precio'].quantile(0.75)\n",
    "\n",
    "iqr = q3 - q1\n",
    "\n",
    "#Definicion de limites\n",
    "\n",
    "limite_inf = q1 -1.5*iqr\n",
    "limite_sup = q3+1.5*iqr\n",
    "\n",
    "#identificar outlayer\n",
    "outlier = df[(df['precio']<limite_inf) | (df['precio']>limite_sup)]\n",
    "\n",
    "#df=df.drop(outlier.index)\n",
    "outlier.shape\n",
    "\"\"\""
   ]
  },
  {
   "cell_type": "code",
   "execution_count": 42,
   "metadata": {},
   "outputs": [],
   "source": [
    "#df=df.drop(outlier.index)\n",
    "#df.reset_index()"
   ]
  },
  {
   "cell_type": "code",
   "execution_count": 43,
   "metadata": {},
   "outputs": [
    {
     "data": {
      "image/png": "[encoded data removed]",
      "text/plain": [
       "<Figure size 640x480 with 1 Axes>"
      ]
     },
     "metadata": {},
     "output_type": "display_data"
    }
   ],
   "source": [
    "\n",
    "plt.boxplot(df['precio'])\n",
    "plt.title(\"Box Plot Carnes\")\n",
    "plt.show()"
   ]
  },
  {
   "cell_type": "markdown",
   "metadata": {},
   "source": [
    "## Exportar Datos limpios"
   ]
  },
  {
   "cell_type": "code",
   "execution_count": 44,
   "metadata": {},
   "outputs": [],
   "source": [
    "df.to_csv('../Data/db/Procesados/data_limpia.csv', index=False)"
   ]
  }
 ],
 "metadata": {
  "kernelspec": {
   "display_name": ".env",
   "language": "python",
   "name": "python3"
  },
  "language_info": {
   "codemirror_mode": {
    "name": "ipython",
    "version": 3
   },
   "file_extension": ".py",
   "mimetype": "text/x-python",
   "name": "python",
   "nbconvert_exporter": "python",
   "pygments_lexer": "ipython3",
   "version": "3.10.12"
  }
 },
 "nbformat": 4,
 "nbformat_minor": 2
}
